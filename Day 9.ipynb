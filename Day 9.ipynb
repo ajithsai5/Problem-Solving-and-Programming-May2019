{
 "cells": [
  {
   "cell_type": "markdown",
   "metadata": {},
   "source": [
    "# PROBLEM SOLVING and PROGRAMMING\n",
    "### Day NO:-09\n",
    "### Date - 12-05-2019"
   ]
  },
  {
   "cell_type": "markdown",
   "metadata": {},
   "source": [
    "## Day Objectives\n",
    "1. Objectives 1\n",
    "2. Objectives 2\n",
    "3. Objectives 3"
   ]
  },
  {
   "cell_type": "markdown",
   "metadata": {},
   "source": [
    "## Problem 1:-\n",
    "\n",
    "#### Problem Staments\n",
    "Define a function to find the average of all the outer elements of an N x M matrix.\n",
    "\n",
    "#### Test Cases:-\n",
    "* averageOuterMatrix([[1, 2, 3], [4, 5, 6], [7, 8, 9], [10, 11, 12]] -> 4.5\n"
   ]
  },
  {
   "cell_type": "code",
   "execution_count": 2,
   "metadata": {},
   "outputs": [
    {
     "name": "stdout",
     "output_type": "stream",
     "text": [
      "6.5\n"
     ]
    }
   ],
   "source": [
    "def num(a):\n",
    "    n=len(a[0])\n",
    "    m=len(a)\n",
    "    sum=0\n",
    "    x=0\n",
    "    for i in range(0,n):\n",
    "        sum=sum+a[0][i]+a[m-1][i]\n",
    "        x=x+2\n",
    "    for i in range(1,m-1):\n",
    "        sum=sum+a[i][0]+a[i][n-1]\n",
    "        x=x+2\n",
    "    print(sum/x)\n",
    "a=[[1, 2, 3], [4, 5, 6], [7, 8, 9], [10, 11, 12]]\n",
    "num(a)"
   ]
  },
  {
   "cell_type": "markdown",
   "metadata": {},
   "source": [
    "## Problem 2:-\n",
    "\n",
    "#### Problem Staments\n",
    " Define a function to print the sequence of spiral pattern elements for a given N x N matrix.\n",
    " \n",
    " #### Test Cases:-\n",
    "* spiralPattern([[1,2,3], [4,5,6], [7,8,9]]) -> 1 2 3 6 9 8 7 4 5"
   ]
  },
  {
   "cell_type": "code",
   "execution_count": 45,
   "metadata": {},
   "outputs": [
    {
     "name": "stdout",
     "output_type": "stream",
     "text": [
      "1\n",
      "2\n",
      "3\n",
      "6\n",
      "9\n",
      "12\n",
      "15\n",
      "14\n",
      "13\n",
      "10\n",
      "7\n",
      "4\n"
     ]
    }
   ],
   "source": [
    "def num(a):\n",
    "    n=len(a[0])\n",
    "    m=len(a)\n",
    "    for i in range(0,n):\n",
    "        print(a[0][i])\n",
    "    for i in range(1,m):\n",
    "        print(a[i][n-1])\n",
    "    for i in range(n-2,-1,-1):\n",
    "        print(a[m-1][i])\n",
    "    for i in range(m-2,0,-1):\n",
    "        print (a[i][0])\n",
    "a=[[1, 2, 3], [4, 5, 6], [7, 8, 9],[10,11,12],[13,14,15]]\n",
    "num(a)"
   ]
  },
  {
   "cell_type": "markdown",
   "metadata": {},
   "source": [
    "## Problem 3:-\n",
    "\n",
    "#### Problem Staments\n",
    "You are given n words. Some words may repeat. For each word, output its number of occurrences. The output order should correspond with the input order of appearance of the word. \n",
    "First line of input contains the total number of words n. Next n lines contain words that need to processed.\n",
    "\n",
    "First line of the output should contain the total number distinct words. Second line of output must contain the frequency of words the same order of their appearance as in the input"
   ]
  },
  {
   "cell_type": "code",
   "execution_count": 5,
   "metadata": {},
   "outputs": [
    {
     "name": "stdout",
     "output_type": "stream",
     "text": [
      "abcd 3\n",
      "ijkl 2\n",
      "pqrs 1\n"
     ]
    }
   ],
   "source": [
    "def num(a):\n",
    "    b = []\n",
    "    for x in a:\n",
    "        if x not in b: \n",
    "            b.append(x)\n",
    "    c=0\n",
    "    for i in range(0,len(b)):\n",
    "        for j in range(0,len(a)):\n",
    "            if(b[i]==a[j]):\n",
    "                c=c+1\n",
    "        print(b[i],c)\n",
    "        c=0   \n",
    "a=['abcd','ijkl','abcd','pqrs','abcd','ijkl']\n",
    "num(a)"
   ]
  }
