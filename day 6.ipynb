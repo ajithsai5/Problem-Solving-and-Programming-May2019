{
 "cells": [
  {
   "cell_type": "markdown",
   "metadata": {},
   "source": [
    "# PROBLEM SOLVING and PROGRAMMING\n",
    "### Day NO:-06\n",
    "### Date -09/05/2019\n",
    "\n",
    "\n"
   ]
  },
  {
   "cell_type": "markdown",
   "metadata": {},
   "source": [
    "## Problem 1:-\n",
    "\n",
    "#### Problem Staments:-\n",
    "Basic Problems :-Greet"
   ]
  },
  {
   "cell_type": "code",
   "execution_count": 21,
   "metadata": {
    "scrolled": true
   },
   "outputs": [
    {
     "data": {
      "text/plain": [
       "'hello worlds'"
      ]
     },
     "execution_count": 21,
     "metadata": {},
     "output_type": "execute_result"
    }
   ],
   "source": [
    "s= 'hello worlds'\n",
    "s"
   ]
  },
  {
   "cell_type": "markdown",
   "metadata": {},
   "source": [
    "## Problem 2:-\n",
    "\n",
    "#### Problem Staments:-\n",
    "Arithmetic Operations"
   ]
  },
  {
   "cell_type": "code",
   "execution_count": 22,
   "metadata": {},
   "outputs": [
    {
     "name": "stdout",
     "output_type": "stream",
     "text": [
      "add:- 15\n",
      "sub:- -5\n",
      "mit:- 50\n",
      "div:- 5.0\n",
      "pov:- 4\n"
     ]
    }
   ],
   "source": [
    "a = 5\n",
    "b = 10\n",
    "c = 2\n",
    "print( \"add:-\", a+b)\n",
    "print(\"sub:-\", a-b)\n",
    "print(\"mit:-\", a*b)\n",
    "print(\"div:-\", b/c)\n",
    "print(\"pov:-\", c**c)"
   ]
  },
  {
   "cell_type": "markdown",
   "metadata": {},
   "source": [
    "## Problem 3:-\n",
    "\n",
    "#### Problem Staments:-\n",
    "Design a program to evaluate the polynomial\n",
    "1. f(x)= x^3 + 2 X^2 + 3 X - 10 for x in the range [1, 1000]"
   ]
  },
  {
   "cell_type": "code",
   "execution_count": 23,
   "metadata": {},
   "outputs": [
    {
     "name": "stdout",
     "output_type": "stream",
     "text": [
      "160\n"
     ]
    }
   ],
   "source": [
    "def f(x):\n",
    "    if(x > 1 and x < 1000):\n",
    "        n = x**3 + 2 *(x**2) + 3*(x - 10)\n",
    "        print(n)\n",
    "    else:\n",
    "        print(\"given number is out of range\")\n",
    "f(5)"
   ]
  },
  {
   "cell_type": "markdown",
   "metadata": {},
   "source": [
    "## Problem 4:-\n",
    "\n",
    "#### Problem Staments:-\n",
    "Determining whether a number is Even or Odd"
   ]
  },
  {
   "cell_type": "code",
   "execution_count": 24,
   "metadata": {},
   "outputs": [
    {
     "name": "stdout",
     "output_type": "stream",
     "text": [
      "odd\n"
     ]
    }
   ],
   "source": [
    "def num(n):\n",
    "    if(n/2==0):\n",
    "        print(\"even\")\n",
    "    else:\n",
    "        print(\"odd\")\n",
    "num(5)"
   ]
  },
  {
   "cell_type": "markdown",
   "metadata": {},
   "source": [
    "## Problem 5:-\n",
    "\n",
    "#### Problem Staments:-\n",
    "Finding the greatest of 3 numbers"
   ]
  },
  {
   "cell_type": "code",
   "execution_count": 25,
   "metadata": {},
   "outputs": [
    {
     "name": "stdout",
     "output_type": "stream",
     "text": [
      "4 is greatest\n"
     ]
    }
   ],
   "source": [
    "def num(n1,n2,n3):\n",
    "    if(n1>n2 and n1>n3):\n",
    "        print(n1,\"is greatest\")\n",
    "    elif(n2>n1 and n2>n3):\n",
    "        print(n2,\"is greatest\")\n",
    "    elif(n3>n1 and n3>n2):\n",
    "        print(n3,\"is greatest\")\n",
    "num(3,4,1)"
   ]
  },
  {
   "cell_type": "markdown",
   "metadata": {},
   "source": [
    "## Problem 6:-\n",
    "\n",
    "#### Problem Staments:-\n",
    "Given 2 ints, a and b, return True if one if them is 10 or if their sum is 10\n",
    "#### Test Cases:-\n",
    "* makes10(9, 10) → True\n",
    "* makes10(9, 9) → False\n",
    "* makes10(1, 9) → True"
   ]
  },
  {
   "cell_type": "code",
   "execution_count": 26,
   "metadata": {},
   "outputs": [
    {
     "name": "stdout",
     "output_type": "stream",
     "text": [
      "True\n",
      "False\n",
      "True\n"
     ]
    }
   ],
   "source": [
    "def num(n1,n2):\n",
    "    return(n1==10 or n2==10 or n1+n2==10)\n",
    "print(num(9, 10))\n",
    "print(num(9, 9))\n",
    "print(num(1, 9))"
   ]
  },
  {
   "cell_type": "markdown",
   "metadata": {},
   "source": [
    "## Problem 7:-\n",
    "\n",
    "#### Problem Staments:-\n",
    "Given 2 int values, return True if one is negative and one is positive. Except if the parameter \"negative\" is True, then return True only if both are negative.\n",
    "#### Test Cases:-\n",
    "* pos_neg(1, -1, False) → True\n",
    "* pos_neg(-1, 1, False) → True\n",
    "* pos_neg(-4, -5, True) → True\n",
    "* pos_neg(-3, -7, False) - False"
   ]
  },
  {
   "cell_type": "code",
   "execution_count": 27,
   "metadata": {},
   "outputs": [
    {
     "name": "stdout",
     "output_type": "stream",
     "text": [
      "True\n",
      "True\n",
      "True\n",
      "False\n"
     ]
    }
   ],
   "source": [
    "def num(x,y,b):\n",
    "    if(x<0 and y>0) or (x>0 and y<0) or (x<0 and y<0 and b==True):\n",
    "        return True\n",
    "    else:\n",
    "        return False\n",
    "print(num(1,-1,False))\n",
    "print(num(-1, 1, False))\n",
    "print(num(-4, -5, True))\n",
    "print(num(-3, -7, False))"
   ]
  },
  {
   "cell_type": "markdown",
   "metadata": {},
   "source": [
    "## Problem 8:-\n",
    "\n",
    "#### Problem Staments:-\n",
    "Given an int n, return True if it is within 10 of 100 or 200\n",
    "#### Test Cases:-\n",
    "* near_hundred(93) → True\n",
    "* near_hundred(90) → True\n",
    "* near_hundred(89) → False"
   ]
  },
  {
   "cell_type": "code",
   "execution_count": 28,
   "metadata": {},
   "outputs": [
    {
     "name": "stdout",
     "output_type": "stream",
     "text": [
      "True\n",
      "True\n",
      "False\n"
     ]
    }
   ],
   "source": [
    "def num(n):\n",
    "    return (n>=90 and n<=110) or (n>=190 and n<=210)\n",
    "print(num(93))\n",
    "print(num(90))\n",
    "print(num(89))"
   ]
  },
  {
   "cell_type": "markdown",
   "metadata": {},
   "source": [
    "## Problem 9:-\n",
    "\n",
    "#### Problem Staments:-\n",
    "Create a N number of Random Number in Random Number Generator which takes the Range(lb, ub) and returns a Random number in the given range"
   ]
  },
  {
   "cell_type": "code",
   "execution_count": 29,
   "metadata": {},
   "outputs": [
    {
     "name": "stdout",
     "output_type": "stream",
     "text": [
      "72\n",
      "32\n",
      "81\n",
      "28\n",
      "85\n",
      "59\n",
      "53\n",
      "67\n",
      "20\n",
      "46\n"
     ]
    }
   ],
   "source": [
    "import random\n",
    "for x in range(10):\n",
    "    print (random.randrange(1,101))"
   ]
  },
  {
   "cell_type": "markdown",
   "metadata": {},
   "source": [
    "## Problem 10:-\n",
    "\n",
    "#### Problem Staments:-\n",
    "Create a Random Number Generator which takes the Range(lb, ub) and returns a Random number in the given range"
   ]
  },
  {
   "cell_type": "code",
   "execution_count": 30,
   "metadata": {},
   "outputs": [
    {
     "name": "stdout",
     "output_type": "stream",
     "text": [
      "34\n"
     ]
    }
   ],
   "source": [
    "import random\n",
    "def num(l,u):\n",
    "    print (random.randrange(l,u))\n",
    "num(10,300)   "
   ]
  },
  {
   "cell_type": "markdown",
   "metadata": {},
   "source": [
    "## Problem 11:-\n",
    "\n",
    "#### Problem Staments:-\n",
    "Sum of N Radom Numbers within range(lb, ub)"
   ]
  },
  {
   "cell_type": "code",
   "execution_count": 31,
   "metadata": {},
   "outputs": [
    {
     "name": "stdout",
     "output_type": "stream",
     "text": [
      "542\n"
     ]
    }
   ],
   "source": [
    "import random\n",
    "\n",
    "def num(n,l,u):\n",
    "    sum =0\n",
    "    for x in range(n):\n",
    "        sum = sum + random.randint(l,u)\n",
    "    print(sum) \n",
    "\n",
    "\n",
    "num(10,1,100)    "
   ]
  },
  {
   "cell_type": "markdown",
   "metadata": {},
   "source": [
    "## Problem 12-\n",
    "\n",
    "#### Problem Staments:-\n",
    "Design a to perform Linear search on list of N unsorted unique numbers. It take an array and the key element to be searched and returns the index of the element of key element if found. Else returns -1"
   ]
  },
  {
   "cell_type": "code",
   "execution_count": 32,
   "metadata": {},
   "outputs": [
    {
     "data": {
      "text/plain": [
       "True"
      ]
     },
     "execution_count": 32,
     "metadata": {},
     "output_type": "execute_result"
    }
   ],
   "source": [
    "a=[5,6,9,1,1,7,0,3,2]\n",
    "3 in a\n"
   ]
  },
  {
   "cell_type": "code",
   "execution_count": 33,
   "metadata": {},
   "outputs": [
    {
     "name": "stdout",
     "output_type": "stream",
     "text": [
      "4\n",
      "1\n",
      "-1\n"
     ]
    }
   ],
   "source": [
    "def lin(a,key):\n",
    "    for i in range (0, len(a)):\n",
    "         if(a[i]==key):\n",
    "                 return i\n",
    "    return -1    \n",
    "print(lin([9,1,7,5,3,2,8,1,9],3) )   \n",
    "print(lin([5,4,3,2,1], 4))   \n",
    "print(lin( [90, 123, 324, 21, 56], 22))        "
   ]
  },
  {
   "cell_type": "markdown",
   "metadata": {},
   "source": [
    "## Problem 13-\n",
    "\n",
    "#### Problem Staments:-\n",
    "print N natural numbers."
   ]
  },
  {
   "cell_type": "code",
   "execution_count": 34,
   "metadata": {},
   "outputs": [
    {
     "name": "stdout",
     "output_type": "stream",
     "text": [
      "1\n",
      "2\n",
      "3\n",
      "4\n",
      "5\n",
      "6\n",
      "7\n"
     ]
    }
   ],
   "source": [
    "def num(n):\n",
    "    for i in range(1,n+1):\n",
    "        print(i)\n",
    "num(7)"
   ]
  },
  {
   "cell_type": "markdown",
   "metadata": {},
   "source": [
    "## Problem 14-\n",
    "\n",
    "#### Problem Staments:-\n",
    "calculate the factorial of a given number"
   ]
  },
  {
   "cell_type": "code",
   "execution_count": 35,
   "metadata": {},
   "outputs": [
    {
     "name": "stdout",
     "output_type": "stream",
     "text": [
      "6\n"
     ]
    }
   ],
   "source": [
    "def num(n):\n",
    "    fac =1\n",
    "    for i in range (1,n+1):\n",
    "        fac= fac*i\n",
    "    return fac\n",
    "print(num(3))"
   ]
  },
  {
   "cell_type": "markdown",
   "metadata": {},
   "source": [
    "## Problem 15-\n",
    "\n",
    "#### Problem Staments:-\n",
    "Procedure to generate multiplication tables.\n",
    "#### Test Cases\n",
    "* MT(3, 5, 7) -> 3 X 5 = 15\n",
    "\n",
    "              3 X 6 = 18\n",
    "\n",
    "              3 X 7 = 21"
   ]
  },
  {
   "cell_type": "code",
   "execution_count": 36,
   "metadata": {},
   "outputs": [
    {
     "name": "stdout",
     "output_type": "stream",
     "text": [
      "3 * 5 = 15\n",
      "3 * 6 = 18\n",
      "3 * 7 = 21\n"
     ]
    }
   ],
   "source": [
    "def num(n,l,u):\n",
    "    for i in range (l, u+1):\n",
    "        print(n,'*',i,'=',n*i)\n",
    "num(3,5,7)        "
   ]
  },
  {
   "cell_type": "markdown",
   "metadata": {},
   "source": [
    "## Problem 16-\n",
    "\n",
    "#### Problem Staments:-\n",
    "Procedure to print the list of factors of a given number.\n",
    "#### Test Cases\n",
    "*    FactorList(6)  ->  1 2 3 6\n",
    "\n",
    "     FactorList (9) ->   1 3 9\n",
    "\n",
    "     FactorList (19) ->  1  19\n",
    "\n"
   ]
  },
  {
   "cell_type": "code",
   "execution_count": 45,
   "metadata": {},
   "outputs": [
    {
     "name": "stdout",
     "output_type": "stream",
     "text": [
      "1\n",
      "2\n",
      "3\n",
      "6\n",
      "1\n",
      "9\n",
      "1\n",
      "19\n"
     ]
    }
   ],
   "source": [
    "def num (n):\n",
    "     for i in range(1,n+1):\n",
    "            m=n%i\n",
    "            if(m==0):\n",
    "                print(i)\n",
    "            else:\n",
    "                return n   \n",
    "            \n",
    "print(num(6))\n",
    "print(num(9))\n",
    "print(num(19))"
   ]
  },
  {
   "cell_type": "markdown",
   "metadata": {},
   "source": [
    "## Problem 17-\n",
    "\n",
    "#### Problem Staments:-\n",
    "check if a given number is Prime and returns a Boolean value.\n",
    "#### Test Cases\n",
    "*  IsPrime(7) -> True\n",
    "\n",
    "   IsPrime(9) ->  False\n",
    "\n"
   ]
  },
  {
   "cell_type": "code",
   "execution_count": 46,
   "metadata": {},
   "outputs": [
    {
     "name": "stdout",
     "output_type": "stream",
     "text": [
      "True\n",
      "False\n"
     ]
    }
   ],
   "source": [
    "def num (n):\n",
    "    p=0\n",
    "    for i in range(1,n+1):\n",
    "        m=n%i\n",
    "        if(m==0):\n",
    "            p=p+1\n",
    "    if(p==2):\n",
    "        return True\n",
    "    else:\n",
    "        return False\n",
    "print(num(7))\n",
    "print(num(9))    "
   ]
  },
  {
   "cell_type": "markdown",
   "metadata": {},
   "source": [
    "## Problem 18-\n",
    "\n",
    "#### Problem Staments:-\n",
    "count the number of digits in a given number.\n",
    "#### Test Cases:-\n",
    "* CountDigits(123456) ->  6\n",
    "  CountDigits (0) ->  1"
   ]
  },
  {
   "cell_type": "code",
   "execution_count": 47,
   "metadata": {},
   "outputs": [
    {
     "ename": "NameError",
     "evalue": "name 'count' is not defined",
     "output_type": "error",
     "traceback": [
      "\u001b[1;31m---------------------------------------------------------------------------\u001b[0m",
      "\u001b[1;31mNameError\u001b[0m                                 Traceback (most recent call last)",
      "\u001b[1;32m<ipython-input-47-f19f02fd87d6>\u001b[0m in \u001b[0;36m<module>\u001b[1;34m\u001b[0m\n\u001b[0;32m      4\u001b[0m         \u001b[0mn\u001b[0m\u001b[1;33m=\u001b[0m\u001b[0mn\u001b[0m\u001b[1;33m/\u001b[0m\u001b[1;36m10\u001b[0m\u001b[1;33m\u001b[0m\u001b[1;33m\u001b[0m\u001b[0m\n\u001b[0;32m      5\u001b[0m         \u001b[0mcount\u001b[0m\u001b[1;33m=\u001b[0m\u001b[0mcount\u001b[0m\u001b[1;33m+\u001b[0m\u001b[1;36m1\u001b[0m\u001b[1;33m\u001b[0m\u001b[1;33m\u001b[0m\u001b[0m\n\u001b[1;32m----> 6\u001b[1;33m \u001b[0mprint\u001b[0m\u001b[1;33m(\u001b[0m\u001b[1;34m\"The number of digits in the number are:\"\u001b[0m\u001b[1;33m,\u001b[0m\u001b[0mcount\u001b[0m\u001b[1;33m)\u001b[0m\u001b[1;33m\u001b[0m\u001b[1;33m\u001b[0m\u001b[0m\n\u001b[0m\u001b[0;32m      7\u001b[0m \u001b[0mcou\u001b[0m\u001b[1;33m(\u001b[0m\u001b[1;36m123456\u001b[0m\u001b[1;33m)\u001b[0m\u001b[1;33m\u001b[0m\u001b[1;33m\u001b[0m\u001b[0m\n",
      "\u001b[1;31mNameError\u001b[0m: name 'count' is not defined"
     ]
    }
   ],
   "source": [
    "def cou(n):\n",
    "    count=0\n",
    "    for i in range (1,len(n)):\n",
    "        n=n/10\n",
    "        count=count+1\n",
    "print(\"The number of digits in the number are:\",count)\n",
    "cou(123456)\n"
   ]
  },
  {
   "cell_type": "markdown",
   "metadata": {},
   "source": [
    "## Problem 19-\n",
    "\n",
    "#### Problem Staments:-\n",
    "determine if a given string is a Palindrome\n",
    "#### Test Cases:-\n",
    "* Palindrome(\"racecar\") -> True\n",
    "  Palindrome(\"raptor\") -> False"
   ]
  },
  {
   "cell_type": "code",
   "execution_count": 49,
   "metadata": {},
   "outputs": [
    {
     "name": "stdout",
     "output_type": "stream",
     "text": [
      "True\n",
      "False\n"
     ]
    }
   ],
   "source": [
    "def pal(s):\n",
    "    rs = s[-1::-1]\n",
    "    if(s == rs):\n",
    "        return True\n",
    "    return False\n",
    "print(pal('rsasr'))\n",
    "print(pal('raptor'))"
   ]
  },
  {
   "cell_type": "markdown",
   "metadata": {},
   "source": [
    "## Problem 20-\n",
    "\n",
    "#### Problem Staments:-\n",
    " Check if a given number is a Perfect Number\n",
    "#### Test Cases:-\n",
    " * IsPerfect(3) -> False\n",
    "   IsPerfect (6) -> True"
   ]
  },
  {
   "cell_type": "code",
   "execution_count": 52,
   "metadata": {},
   "outputs": [
    {
     "name": "stdout",
     "output_type": "stream",
     "text": [
      "Number is a perfect number 6\n"
     ]
    }
   ],
   "source": [
    "def per(n):\n",
    "    sum=0\n",
    "    for i in range(1,n):\n",
    "            m=n%i\n",
    "            if(m==0):\n",
    "                sum=sum+i\n",
    "    if(sum == n):\n",
    "        print(\"Number is a perfect number\",sum)\n",
    "    else:\n",
    "        print(\"Number is not a perfect number\",sum)\n",
    "per(6) \n",
    "per(3)"
   ]
  },
  {
   "cell_type": "markdown",
   "metadata": {},
   "source": [
    "## Problem 20-\n",
    "\n",
    "#### Problem Staments:-\n",
    "To generate the first N perfect numbers\n",
    "#### Test Cases:-\n",
    "* GeneratePerfect(2) ->  6   28\n",
    "      \n",
    "  GeneratePerfect (4) ->  6   28   496    8128"
   ]
  },
  {
   "cell_type": "code",
   "execution_count": 70,
   "metadata": {},
   "outputs": [],
   "source": [
    "def num(x):\n",
    "    sum=0\n",
    "    for i in range(1,x):\n",
    "        m=x%i\n",
    "        if(m==0):\n",
    "            sum=sum+i\n",
    "    if(sum == x):\n",
    "            print(\"hix)\n",
    "num(10)        "
   ]
  },
  {
   "cell_type": "code",
   "execution_count": null,
   "metadata": {},
   "outputs": [],
   "source": []
  }
 ],
 "metadata": {
  "kernelspec": {
   "display_name": "Python 3",
   "language": "python",
   "name": "python3"
  },
  "language_info": {
   "codemirror_mode": {
    "name": "ipython",
    "version": 3
   },
   "file_extension": ".py",
   "mimetype": "text/x-python",
   "name": "python",
   "nbconvert_exporter": "python",
   "pygments_lexer": "ipython3",
   "version": "3.7.3"
  }
 },
 "nbformat": 4,
 "nbformat_minor": 2
}
