{
 "cells": [
  {
   "cell_type": "markdown",
   "metadata": {},
   "source": [
    "# PROBLEM SOLVING and PROGRAMMING\n",
    "### Day NO:-10\n",
    "### Date - 13-05-2019"
   ]
  },
  {
   "cell_type": "markdown",
   "metadata": {},
   "source": [
    "## Day Objectives\n",
    "1. Objectives 1\n",
    "2. Objectives 2\n",
    "3. Objectives 3"
   ]
  },
  {
   "cell_type": "markdown",
   "metadata": {},
   "source": [
    "## Problem 1:-\n",
    "\n",
    "#### Problem Staments\n",
    "Define a function to validate email addresses based on the following rules.\n",
    "\n",
    "* Email should be in the format username@domain.extension\n",
    "* username must start with an alphabet and can contain lowercase alphabet, digits, hyphen(-) and underscores( _ ).\n",
    "* username must not contain special characters, uppercase letters, whitespaces.\n",
    "* Length of username must be in the range (6, 16)\n",
    "* Domain can only contain lowercase alphabet and digits with length in range (3, 10) . No special characters are allowed\n",
    "* Extension can only contain lower case alphabet and its length must be in the range (2, 4)\n",
    "* First line of input contains total number of email addresses n.  Next n lines contain  n email addresses.\n",
    "\n",
    "* Output must contain contain  n  lines with either 'Valid' or 'Invalid'\n",
    "\n",
    "#### Test Cases:-\n"
   ]
  },
  {
   "cell_type": "code",
   "execution_count": 1,
   "metadata": {},
   "outputs": [
    {
     "data": {
      "text/plain": [
       "'valid'"
      ]
     },
     "execution_count": 1,
     "metadata": {},
     "output_type": "execute_result"
    }
   ],
   "source": [
    "def a(n):\n",
    "    p1=n.\n",
    "    index('@')\n",
    "    p2=n.index('.')\n",
    "    user=n[:p1]\n",
    "    dom=n[p1+1:p2]\n",
    "    ext=n[p2+1:]\n",
    "    if(user.islower() & dom.islower() & ext.islower()):\n",
    "        r=1\n",
    "    elif(user.isupper() & dom.isupper() & ext.isupper()):\n",
    "        return('invalid')\n",
    "    else:\n",
    "        return('invalid')\n",
    "    for i in range (0,5):\n",
    "        if(user[i] in range(0,9)):\n",
    "            print('valid')\n",
    "    #if(user in ['-','_'] or user in range[0,9]):\n",
    "        #return ('valid')\n",
    "    x=len(user)\n",
    "    y=len(dom)\n",
    "    z=len(ext)\n",
    "    \n",
    "    if((x>5 and x<17) and (y>2 and y<11) and (z>1 and z<5)):\n",
    "        r=1\n",
    "    else:\n",
    "        return('invalid')    \n",
    "    if(r==1):\n",
    "        return('valid')\n",
    "a('ab-c456@gmail.com')"
   ]
  },
  {
   "cell_type": "markdown",
   "metadata": {},
   "source": [
    "## Problem 2:-\n",
    "\n",
    "#### Problem Staments\n",
    "Define a function to print the sequence of spiral pattern elements for a given N x N matrix\n",
    "\n",
    "#### Test Cases:-\n",
    "* spiralPattern([[1,2,3], [4,5,6], [7,8,9]]) -> 1 2 3 6 9 8 7 4 5"
   ]
  },
  {
   "cell_type": "code",
   "execution_count": null,
   "metadata": {},
   "outputs": [],
   "source": []
  },
  {
   "cell_type": "markdown",
   "metadata": {},
   "source": [
    "## Problem 3:-\n",
    "\n",
    "#### Problem Staments\n",
    "Design a Python script to determine the difference in date for given two dates in YYYY:MM:DD format(0 <= YYYY <= 9999, 1 <= MM <= 12, 1 <= DD <= 31) following the leap year rules. Return the total number of days existing between the two dates.\n",
    "#### Test Cases:-\n",
    "* dateDifference('2019:05:10', '2019:05:01') -> 9\n",
    "* dateDifference('0003:03:03', '0003:06:06') -> 95\n",
    "* dateDifference('0001:03:27', '0001:06:03') -> 68"
   ]
  },
  {
   "cell_type": "code",
   "execution_count": null,
   "metadata": {},
   "outputs": [],
   "source": [
    "from datatime import data,datetime\n",
    "def date(dat1,date2):\n",
    "    y1=yearFromData(data1)\n",
    "    m1=monthFromData(date1)\n",
    "    day1=daysFromData(data1)\n",
    "    y2=yearFromData(data2)\n",
    "    m2=monthFromData(date2)\n",
    "    day2=daysFromData(data2)\n",
    "    d1=date(year=year1,)"
   ]
  }
 ],
 "metadata": {
  "kernelspec": {
   "display_name": "Python 3",
   "language": "python",
   "name": "python3"
  },
  "language_info": {
   "codemirror_mode": {
    "name": "ipython",
    "version": 3
   },
   "file_extension": ".py",
   "mimetype": "text/x-python",
   "name": "python",
   "nbconvert_exporter": "python",
   "pygments_lexer": "ipython3",
   "version": "3.7.3"
  }
 },
 "nbformat": 4,
 "nbformat_minor": 2
}
