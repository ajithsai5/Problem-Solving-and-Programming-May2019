{
 "cells": [
  {
   "cell_type": "markdown",
   "metadata": {},
   "source": [
    "# PROBLEM SOLVING and PROGRAMMING\n",
    "### Day NO:-13\n",
    "### Date -16-05-2091 "
   ]
  },
  {
   "cell_type": "markdown",
   "metadata": {},
   "source": [
    "## Day Objectives\n",
    "* Python Packages and Modules\n",
    "* Regular Expressions\n",
    "* Iterators and Generators"
   ]
  },
  {
   "cell_type": "markdown",
   "metadata": {},
   "source": [
    "## Problem 1:-\n",
    "\n",
    "#### Problem Staments\n",
    "Define a function to read/write data from text file .\n"
   ]
  },
  {
   "cell_type": "code",
   "execution_count": 11,
   "metadata": {},
   "outputs": [
    {
     "data": {
      "text/plain": [
       "'welcome\\n'"
      ]
     },
     "execution_count": 11,
     "metadata": {},
     "output_type": "execute_result"
    }
   ],
   "source": [
    "def  readFileData(filename):\n",
    "    f= open(filename,'r')\n",
    "    filedata = f.readline()\n",
    "  \n",
    "    f.close()\n",
    "    return filedata\n",
    "\n",
    "readFileData('FileData/text.txt')"
   ]
  },
  {
   "cell_type": "code",
   "execution_count": 12,
   "metadata": {},
   "outputs": [
    {
     "data": {
      "text/plain": [
       "'welcome\\nhi\\n'"
      ]
     },
     "execution_count": 12,
     "metadata": {},
     "output_type": "execute_result"
    }
   ],
   "source": [
    "def  readFileData(filename):\n",
    "    f= open(filename,'r')\n",
    "    filedata = f.readline()\n",
    "    filedata = filedata+f.readline()\n",
    "    f.close()\n",
    "    return filedata\n",
    "\n",
    "readFileData('FileData/text.txt')"
   ]
  },
  {
   "cell_type": "code",
   "execution_count": 14,
   "metadata": {},
   "outputs": [
    {
     "data": {
      "text/plain": [
       "'welcome\\nhi\\nhello world\\nmy name is a'"
      ]
     },
     "execution_count": 14,
     "metadata": {},
     "output_type": "execute_result"
    }
   ],
   "source": [
    "def  readFileData(filename):\n",
    "    f= open(filename,'r')\n",
    "    filedata = f.read()\n",
    "    f.close()\n",
    "    return filedata\n",
    "\n",
    "readFileData('FileData/text.txt')"
   ]
  },
  {
   "cell_type": "code",
   "execution_count": 17,
   "metadata": {},
   "outputs": [
    {
     "name": "stdout",
     "output_type": "stream",
     "text": [
      "welcome\n",
      "hi\n",
      "hello world\n",
      "my name is a\n"
     ]
    }
   ],
   "source": [
    "def  readFileData(filename):\n",
    "    with open(filename,'r') as f:\n",
    "        print(f.read())\n",
    "    return\n",
    "readFileData('FileData/text.txt')"
   ]
  },
  {
   "cell_type": "code",
   "execution_count": 18,
   "metadata": {},
   "outputs": [
    {
     "name": "stdout",
     "output_type": "stream",
     "text": [
      "welcome\n",
      "hi\n",
      "hello world\n",
      "my name is a\n",
      "hello welcome to hell\n"
     ]
    }
   ],
   "source": [
    "def  readFileData(filename):\n",
    "    with open(filename,'r') as f:\n",
    "        print(f.read())\n",
    "    return\n",
    "def writeFileData(filename,data):\n",
    "    with open(filename,'w') as f:\n",
    "        f.write(data)\n",
    "    return\n",
    "readFileData('FileData/text.txt')\n",
    "writeFileData('FileData/text1.txt','hello welcome to hell')\n",
    "readFileData('FileData/text1.txt')"
   ]
  },
  {
   "cell_type": "code",
   "execution_count": 20,
   "metadata": {},
   "outputs": [
    {
     "name": "stdout",
     "output_type": "stream",
     "text": [
      "welcome\n",
      "hi\n",
      "hello world\n",
      "my name is a\n",
      "hello welcome to hellit is red\n"
     ]
    }
   ],
   "source": [
    "def  readFileData(filename):\n",
    "    with open(filename,'r') as f:\n",
    "        print(f.read())\n",
    "    return\n",
    "def writeFileData(filename,data,mode):\n",
    "    with open(filename,mode) as f:\n",
    "        f.write(data)\n",
    "    return\n",
    "readFileData('FileData/text.txt')\n",
    "writeFileData('FileData/text1.txt','it is red','a')\n",
    "readFileData('FileData/text1.txt')"
   ]
  },
  {
   "cell_type": "code",
   "execution_count": 21,
   "metadata": {},
   "outputs": [
    {
     "name": "stdout",
     "output_type": "stream",
     "text": [
      "welcome\n",
      "hi\n",
      "hello world\n",
      "my name is a\n",
      "home sweet home\n"
     ]
    }
   ],
   "source": [
    "def  readFileData(filename):\n",
    "    with open(filename,'r') as f:\n",
    "        print(f.read())\n",
    "    return\n",
    "def writeFileData(filename,data,mode):\n",
    "    with open(filename,mode) as f:\n",
    "        f.write(data)\n",
    "    return\n",
    "readFileData('FileData/text.txt')\n",
    "writeFileData('FileData/text1.txt','home sweet home','w')\n",
    "readFileData('FileData/text1.txt')"
   ]
  },
  {
   "cell_type": "markdown",
   "metadata": {},
   "source": [
    "## Problem 2:-\n",
    "\n",
    "#### Problem Staments\n",
    "Define a function to generate a Marks data file (text file) for 1300 students such that each mark is entered in anew line. Marks range from 0 to 100 (inclusive) random numbers. "
   ]
  },
  {
   "cell_type": "code",
   "execution_count": 2,
   "metadata": {},
   "outputs": [],
   "source": [
    "import random\n",
    "def marksdata(n,filename):\n",
    "    with open(filename,'w') as f:\n",
    "        for i in range (0,n):\n",
    "            mark=random.randint(0,101)\n",
    "            f.write(str(mark)+'\\n')\n",
    "        return\n",
    "marksdata(1300,'marks.txt')"
   ]
  },
  {
   "cell_type": "markdown",
   "metadata": {},
   "source": [
    "## Problem 3:-\n",
    "\n",
    "#### Problem Staments\n",
    "Generate a report on marks data with the following indicators:\n",
    "* Highest mark :\n",
    "* Lowest Mark :\n",
    "* Average Mark :\n",
    "* No of students with distinction(>90) :\n",
    "* No of students with First class (>80):\n",
    "* No of students with second class (>70):\n",
    "* No of students with second class (>60):\n",
    "* No of students failed (<40) :"
   ]
  },
  {
   "cell_type": "code",
   "execution_count": 3,
   "metadata": {},
   "outputs": [
    {
     "name": "stdout",
     "output_type": "stream",
     "text": [
      "highest marks 101 lowest marks 0 average 50 grade a 126 grade b 110 grade c 109 fail 499\n"
     ]
    },
    {
     "data": {
      "text/plain": [
       "0.013187200000004395"
      ]
     },
     "execution_count": 3,
     "metadata": {},
     "output_type": "execute_result"
    }
   ],
   "source": [
    "import timeit\n",
    "def mark(n,filename):\n",
    "    start=timeit.default_timer()\n",
    "    with open (filename,'r') as r:\n",
    "        l=[]\n",
    "        a=[]\n",
    "        b=[]\n",
    "        c=[]\n",
    "        f=[]\n",
    "        for i in r:\n",
    "            l.append(int(i))\n",
    "            if(int(i)>90):\n",
    "                a.append(int(i))\n",
    "            elif int(i)>80 and int(i)<90:\n",
    "                b.append(int(i))\n",
    "            elif int(i)>70 and int(i)<80:\n",
    "                c.append(int(i))\n",
    "            elif int(i)>0 and int(i)<40:\n",
    "                f.append(int(i))\n",
    "        print ('highest marks',max(l),'lowest marks',min(l),'average',(sum(l)//n),'grade a',len(a),'grade b',len(b),'grade c',len(c),'fail',len(f))\n",
    "    return timeit.default_timer()-start\n",
    "mark(1300,'marks.txt')"
   ]
  },
  {
   "cell_type": "code",
   "execution_count": 4,
   "metadata": {},
   "outputs": [
    {
     "name": "stdout",
     "output_type": "stream",
     "text": [
      "Highest marks:- 101 Lowest marks:- 0 Average:- 50 Grade A:- 126 Grade B:- 110 Grade C:- 109 Fail:- 499\n"
     ]
    },
    {
     "data": {
      "text/plain": [
       "0.0050822000000039225"
      ]
     },
     "execution_count": 4,
     "metadata": {},
     "output_type": "execute_result"
    }
   ],
   "source": [
    "def mark(n,filename):\n",
    "    start=timeit.default_timer()\n",
    "    with open (filename,'r') as r:\n",
    "        l=list(map(int,r))\n",
    "        a=sum(1 for i in l if i>90)\n",
    "        b=sum(1 for i in l if 90>i>80)\n",
    "        c=sum(1 for i in l if 80>i>70)\n",
    "        f=sum(1 for i in l if 0<i<40)\n",
    "        print('Highest marks:-',max(l),'Lowest marks:-',min(l),'Average:-',(sum(l)//n),'Grade A:-',a,'Grade B:-',b,'Grade C:-',c,'Fail:-',f)\n",
    "    return timeit.default_timer()-start        \n",
    "mark(1300,'marks.txt')"
   ]
  },
  {
   "cell_type": "code",
   "execution_count": null,
   "metadata": {},
   "outputs": [],
   "source": []
  }
 ],
 "metadata": {
  "kernelspec": {
   "display_name": "Python 3",
   "language": "python",
   "name": "python3"
  },
  "language_info": {
   "codemirror_mode": {
    "name": "ipython",
    "version": 3
   },
   "file_extension": ".py",
   "mimetype": "text/x-python",
   "name": "python",
   "nbconvert_exporter": "python",
   "pygments_lexer": "ipython3",
   "version": "3.7.3"
  }
 },
 "nbformat": 4,
 "nbformat_minor": 2
}
