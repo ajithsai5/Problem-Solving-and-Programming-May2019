{
 "cells": [
  {
   "cell_type": "markdown",
   "metadata": {},
   "source": [
    "# PROBLEM SOLVING and PROGRAMMING\n",
    "### Day NO:-7\n",
    "### Date - 10/05/2019"
   ]
  },
  {
   "cell_type": "markdown",
   "metadata": {},
   "source": [
    "## Day Objectives\n",
    "1. Objectives 1\n",
    "2. Objectives 2\n",
    "3. Objectives 3"
   ]
  },
  {
   "cell_type": "markdown",
   "metadata": {},
   "source": [
    "## Problem 1:-\n",
    "\n",
    "### Problem Staments\n",
    "Calculate the maximum, minimum and average of N numbers\n",
    "\n",
    "#### Test Cases:-\n",
    "* data( a[1,2,3,4,5] ) -> Max = 5, Min = 1, Avg = 3"
   ]
  },
  {
   "cell_type": "code",
   "execution_count": 143,
   "metadata": {},
   "outputs": [
    {
     "name": "stdout",
     "output_type": "stream",
     "text": [
      "Max is: 5\n",
      "Min is: 1\n",
      "3.0\n"
     ]
    }
   ],
   "source": [
    "a=[1,2,3,4,5]\n",
    "print('Max is:', max(a))\n",
    "print('Min is:', min(a))\n",
    "print(sum(a)/len(a))"
   ]
  },
  {
   "cell_type": "markdown",
   "metadata": {},
   "source": [
    "## Problem 2:-\n",
    "\n",
    "### Problem Staments\n",
    "Perform Linear search on list of N unsorted unique numbers. It take an array and the key element to be searched and returns the index of the element of key element if found. Else returns -1\n",
    "\n",
    "#### Test Cases:-\n",
    "* LinearSearch( a[5,4,3,2,1], 4) -> 2\n",
    "* LinearSearch( a[90, 123, 324, 21, 56], 22) -> -1"
   ]
  },
  {
   "cell_type": "code",
   "execution_count": 144,
   "metadata": {},
   "outputs": [
    {
     "name": "stdout",
     "output_type": "stream",
     "text": [
      "0\n",
      "3\n"
     ]
    }
   ],
   "source": [
    "a=[5,4,3,2,1]\n",
    "b=[90,123,324,21,56]\n",
    "i = a.index(5)\n",
    "ii = b.index(21)\n",
    "print(i)\n",
    "print(ii)"
   ]
  },
  {
   "cell_type": "markdown",
   "metadata": {},
   "source": [
    "## Problem 3:-\n",
    "\n",
    "### Problem Staments\n",
    "Calculate the squareroot of a number\n",
    "\n",
    "#### Test Cases:-\n",
    "* Squareroot(36) -> 6"
   ]
  },
  {
   "cell_type": "code",
   "execution_count": 145,
   "metadata": {},
   "outputs": [
    {
     "name": "stdout",
     "output_type": "stream",
     "text": [
      "3.1622776601683795\n",
      "6.0\n"
     ]
    }
   ],
   "source": [
    "def num(n):\n",
    "    s=n**(1/2)\n",
    "    print(s)\n",
    "num(10)\n",
    "num(36)"
   ]
  },
  {
   "cell_type": "code",
   "execution_count": 146,
   "metadata": {},
   "outputs": [
    {
     "name": "stdout",
     "output_type": "stream",
     "text": [
      "3.0\n"
     ]
    }
   ],
   "source": [
    "import math\n",
    "print(math.sqrt(9))"
   ]
  },
  {
   "cell_type": "markdown",
   "metadata": {},
   "source": [
    "## Problem 4:-\n",
    "\n",
    "### Problem Staments\n",
    "Determine the frequency count of numbers in a given list\n",
    "\n",
    "#### Test Cases:-\n",
    "* Frequency( a[1,3,2,1] ) -> 1 : 2, 2 : 1, 3 : 1"
   ]
  },
  {
   "cell_type": "code",
   "execution_count": 147,
   "metadata": {},
   "outputs": [
    {
     "name": "stdout",
     "output_type": "stream",
     "text": [
      "1 3\n",
      "2 2\n",
      "3 2\n",
      "5 1\n",
      "8 2\n"
     ]
    }
   ],
   "source": [
    "def n(a):\n",
    "    b = []\n",
    "    for x in a:\n",
    "        if x not in b: \n",
    "            b.append(x) \n",
    "    c=0\n",
    "    for i in range(0,len(b)):\n",
    "        for j in range(0,len(a)):\n",
    "            if(b[i]==a[j]):\n",
    "                c=c+1\n",
    "        print(b[i],c)\n",
    "        c=0   \n",
    "a=[1,2,3,2,1,3,5,1,8,8]\n",
    "n(a)"
   ]
  },
  {
   "cell_type": "markdown",
   "metadata": {},
   "source": [
    "## Problem 5:-\n",
    "\n",
    "### Problem Staments\n",
    "Identify all unique elements in an array\n",
    "\n",
    "#### Test Cases:-\n",
    "* unique([1, 2, 3, 4, 3, 2, 1, 0, 0]) -> [1, 2, 3, 4, 0]\n",
    "* unique([9]) -> [9]"
   ]
  },
  {
   "cell_type": "code",
   "execution_count": 148,
   "metadata": {},
   "outputs": [
    {
     "name": "stdout",
     "output_type": "stream",
     "text": [
      "1\n",
      "2\n",
      "3\n",
      "4\n",
      "0\n"
     ]
    }
   ],
   "source": [
    "def n(a):\n",
    "    b = []\n",
    "    for x in a:\n",
    "        if x not in b: \n",
    "            b.append(x) \n",
    "    for x in b:\n",
    "        print(x)\n",
    "a= [1, 2, 3, 4, 3, 2, 1, 0, 0]\n",
    "n(a)"
   ]
  },
  {
   "cell_type": "markdown",
   "metadata": {},
   "source": [
    "## Problem 6:-\n",
    "\n",
    "### Problem Staments\n",
    "Design a procedure to sort a given array in ascending order\n",
    "\n",
    "#### Test Cases:-\n",
    "* sort([3, 2, 1, 4, 4, 5, 6]) -> [1, 2, 3, 4, 4, 5, 6]\n",
    "* sort([1, 2, 3]) -> [1, 2, 3]"
   ]
  },
  {
   "cell_type": "code",
   "execution_count": 149,
   "metadata": {},
   "outputs": [
    {
     "name": "stdout",
     "output_type": "stream",
     "text": [
      "[1, 2, 3, 4]\n"
     ]
    }
   ],
   "source": [
    "\n",
    "numbers = [1, 3, 4, 2] \n",
    "\n",
    "numbers.sort() \n",
    "  \n",
    "print(numbers) "
   ]
  },
  {
   "cell_type": "markdown",
   "metadata": {},
   "source": [
    "## Problem 7:-\n",
    "\n",
    "## Problem Staments\n",
    "\n",
    "#### Power of a number"
   ]
  },
  {
   "cell_type": "code",
   "execution_count": 150,
   "metadata": {},
   "outputs": [
    {
     "data": {
      "text/plain": [
       "8"
      ]
     },
     "execution_count": 150,
     "metadata": {},
     "output_type": "execute_result"
    }
   ],
   "source": [
    "def re(n,r):\n",
    "    if r==1:\n",
    "        return n\n",
    "    else:\n",
    "        return re(n,r-1)*n\n",
    "re(2,3)    "
   ]
  },
  {
   "cell_type": "markdown",
   "metadata": {},
   "source": [
    "## Problem 8:-\n",
    "\n",
    "### Problem Staments\n",
    "##### Factorial"
   ]
  },
  {
   "cell_type": "code",
   "execution_count": 151,
   "metadata": {},
   "outputs": [
    {
     "data": {
      "text/plain": [
       "120"
      ]
     },
     "execution_count": 151,
     "metadata": {},
     "output_type": "execute_result"
    }
   ],
   "source": [
    "def fa(n):\n",
    "    if n==1:\n",
    "        return n\n",
    "    else:\n",
    "        return fa(n-1)*n\n",
    "fa(5)    "
   ]
  },
  {
   "cell_type": "markdown",
   "metadata": {},
   "source": [
    "### Problem 9:-\n",
    "\n",
    "### Problem Staments\n",
    "###### GCD"
   ]
  },
  {
   "cell_type": "code",
   "execution_count": 152,
   "metadata": {},
   "outputs": [
    {
     "data": {
      "text/plain": [
       "6"
      ]
     },
     "execution_count": 152,
     "metadata": {},
     "output_type": "execute_result"
    }
   ],
   "source": [
    "def gcd(a,b):\n",
    "    if b%a==0:\n",
    "        return a\n",
    "    else:\n",
    "        return gcd(b%a,a)\n",
    "gcd(24,54)    "
   ]
  },
  {
   "cell_type": "markdown",
   "metadata": {},
   "source": [
    "### Problem 10:-\n",
    "\n",
    "### Problem Staments\n",
    "###### Towers of Hanoi"
   ]
  },
  {
   "cell_type": "code",
   "execution_count": 153,
   "metadata": {},
   "outputs": [
    {
     "name": "stdout",
     "output_type": "stream",
     "text": [
      "move 1 disk from a to c\n",
      "move 2 disk from a to b\n",
      "move 1 disk from c to b\n",
      "move 3 disk from a to c\n",
      "move 1 disk from b to a\n",
      "move 2 disk from b to c\n",
      "move 1 disk from a to c\n"
     ]
    }
   ],
   "source": [
    "\n",
    "def toh(n,s,t,d):\n",
    "    \n",
    "    if(n==1):\n",
    "        print('move',n,'disk from',s,'to',d)\n",
    "        return\n",
    "    else:\n",
    "        toh(n-1,s,d,t)\n",
    "        print('move',n,'disk from',s,'to',d)\n",
    "        toh(n-1,t,s,d)\n",
    "        return\n",
    "    \n",
    "toh(3,'a','b','c')\n"
   ]
  },
  {
   "cell_type": "markdown",
   "metadata": {},
   "source": [
    "## Problem 11:-\n",
    "\n",
    "### Problem Staments\n",
    "##### Generating the nth Fibonacci number"
   ]
  },
  {
   "cell_type": "code",
   "execution_count": 185,
   "metadata": {
    "scrolled": true
   },
   "outputs": [
    {
     "data": {
      "text/plain": [
       "-21"
      ]
     },
     "execution_count": 185,
     "metadata": {},
     "output_type": "execute_result"
    }
   ],
   "source": [
    "def fib(n):\n",
    "    if(n==0 or n==1): \n",
    "        return (n-1)\n",
    "    else:\n",
    "        return fib(n-1)+fib(n-2)\n",
    "fib(9)"
   ]
  },
  {
   "cell_type": "code",
   "execution_count": null,
   "metadata": {},
   "outputs": [],
   "source": [
    "def num(a,b,n):\n",
    "    print(a)\n",
    "    print(b)\n",
    "    while(n-2):\n",
    "        c=a+b\n",
    "        a=b\n",
    "        b=c\n",
    "        print(c)\n",
    "        n=n-1\n",
    "num(1,1,9)    "
   ]
  },
  {
   "cell_type": "markdown",
   "metadata": {},
   "source": [
    "# Problem 11:-\n",
    "\n",
    "### Problem Staments\n",
    "Define a function to identity the number of times a substring is repeating in a given string\n",
    "\n",
    "#### Test Cases:-\n",
    "* substringCount('str', 'substr') -> 1\n",
    "* substringCount('1234567891122334455', '3') -> 3\n",
    "* substringCount('abccddccc', 'cc') -> 3"
   ]
  },
  {
   "cell_type": "code",
   "execution_count": 224,
   "metadata": {},
   "outputs": [
    {
     "name": "stdout",
     "output_type": "stream",
     "text": [
      "0 2\n",
      "2 4\n",
      "4 6\n",
      "6 8\n",
      "8 10\n"
     ]
    }
   ],
   "source": [
    "def n(a,b):\n",
    "    for i in range (0,len(a),len(b)):\n",
    "        \n",
    "        if(i,i+len(b))\n",
    "n('113411789','11')    "
   ]
  }
 ],
 "metadata": {
  "kernelspec": {
   "display_name": "Python 3",
   "language": "python",
   "name": "python3"
  },
  "language_info": {
   "codemirror_mode": {
    "name": "ipython",
    "version": 3
   },
   "file_extension": ".py",
   "mimetype": "text/x-python",
   "name": "python",
   "nbconvert_exporter": "python",
   "pygments_lexer": "ipython3",
   "version": "3.7.3"
  }
 },
 "nbformat": 4,
 "nbformat_minor": 2
}
