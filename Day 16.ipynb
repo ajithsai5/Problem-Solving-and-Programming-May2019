{
 "cells": [
  {
   "cell_type": "markdown",
   "metadata": {},
   "source": [
    "# PROBLEM SOLVING and PROGRAMMING\n",
    "### Day NO:-16\n",
    "### Date - 19-05-2019"
   ]
  },
  {
   "cell_type": "markdown",
   "metadata": {},
   "source": [
    "## Day Objectives\n",
    "1. Objectives 1\n",
    "2. Objectives 2\n",
    "3. Objectives 3"
   ]
  },
  {
   "cell_type": "markdown",
   "metadata": {},
   "source": [
    "## Problem 1:-\n",
    "\n",
    "#### Problem Staments\n",
    "\n",
    "#### Test Cases:-\n"
   ]
  },
  {
   "cell_type": "code",
   "execution_count": 35,
   "metadata": {},
   "outputs": [
    {
     "data": {
      "image/png": "[encoded data removed]",
      "text/plain": [
       "<Figure size 432x288 with 1 Axes>"
      ]
     },
     "metadata": {
      "needs_background": "light"
     },
     "output_type": "display_data"
    }
   ],
   "source": [
    "import matplotlib.pyplot as plt\n",
    "import matplotlib.mlab as mlab\n",
    "plt.plot([1,6,2,3.5,5,1,2.95,2.81,3,4,4.19], [35,35,0,55,0,35,35,30,18,18,30])\n",
    "plt.xlabel('time')\n",
    "plt.ylabel('distance')\n",
    "plt.show()"
   ]
  },
  {
   "cell_type": "code",
   "execution_count": null,
   "metadata": {},
   "outputs": [],
   "source": []
  },
  {
   "cell_type": "code",
   "execution_count": null,
   "metadata": {},
   "outputs": [],
   "source": []
  },
  {
   "cell_type": "code",
   "execution_count": null,
   "metadata": {},
   "outputs": [],
   "source": [
    "Consider the following algorithm to generate a sequence of numbers. Start with an\n",
    "\n",
    "integer n. If n is even, divide by 2. If n is odd, multiply by 3 and add 1. Repeat this\n",
    "\n",
    "process with the new value of n, terminating when n = 1. For example, the following\n",
    "\n",
    "sequence of numbers will be generated for n = 22:\n",
    "\n",
    "\n",
    "\n",
    "22 11 34 17 52 26 13 40 20 10 5 16 8 4 2 1\n",
    "\n",
    "\n",
    "\n",
    "It is conjectured (but not yet proven) that this algorithm will terminate at n = 1 for\n",
    "\n",
    "every integer n. Still, the conjecture holds for all integers up to at least 1, 000, 000.\n",
    "\n",
    "For an input n, the cycle-length of n is the number of numbers generated up to and\n",
    "\n",
    "including the 1. In the example above, the cycle length of 22 is 16. Given any two\n",
    "\n",
    "numbers i and j, you are to determine the maximum cycle length over all numbers\n",
    "\n",
    "between i and j, including both endpoints."
   ]
  },
  {
   "cell_type": "code",
   "execution_count": 111,
   "metadata": {},
   "outputs": [
    {
     "name": "stdout",
     "output_type": "stream",
     "text": [
      "900 1000 174\n",
      "0.01134730000012496\n"
     ]
    }
   ],
   "source": [
    "import timeit\n",
    "m=900\n",
    "n=1000\n",
    "ma=0\n",
    "start=timeit.default_timer()\n",
    "for  i in range(m,n+1):\n",
    "    l=[]\n",
    "    while(i>1):\n",
    "        if(i%2==0):\n",
    "            i=i//2\n",
    "            l.append(i)\n",
    "        elif(i%2!=0):\n",
    "            i=i*3+1\n",
    "            l.append(i)\n",
    "    f.append(len(l))    \n",
    "    if(ma<len(l)):\n",
    "        ma=len(l)\n",
    "print(m,n,ma+1)\n",
    "print(timeit.default_timer()-start)"
   ]
  },
  {
   "cell_type": "code",
   "execution_count": 117,
   "metadata": {},
   "outputs": [
    {
     "name": "stdout",
     "output_type": "stream",
     "text": [
      "900 1000 174\n",
      "0.004445099999429658\n"
     ]
    }
   ],
   "source": [
    "import timeit\n",
    "def number(m,n):\n",
    "    ma=0\n",
    "    start=timeit.default_timer()\n",
    "    for  i in range(m,n+1):\n",
    "        l=0\n",
    "        while(i>1):\n",
    "            if(i%2==0):\n",
    "                i=i//2\n",
    "            elif(i%2!=0):\n",
    "                i=i*3+1\n",
    "            l+=1\n",
    "        if(ma<l):\n",
    "            ma=l\n",
    "    print(m,n,ma+1)\n",
    "    print(timeit.default_timer()-start)\n",
    "number(900,1000)"
   ]
  },
  {
   "cell_type": "code",
   "execution_count": null,
   "metadata": {},
   "outputs": [],
   "source": []
  }
 ],
 "metadata": {
  "kernelspec": {
   "display_name": "Python 3",
   "language": "python",
   "name": "python3"
  },
  "language_info": {
   "codemirror_mode": {
    "name": "ipython",
    "version": 3
   },
   "file_extension": ".py",
   "mimetype": "text/x-python",
   "name": "python",
   "nbconvert_exporter": "python",
   "pygments_lexer": "ipython3",
   "version": "3.7.3"
  }
 },
 "nbformat": 4,
 "nbformat_minor": 2
}
