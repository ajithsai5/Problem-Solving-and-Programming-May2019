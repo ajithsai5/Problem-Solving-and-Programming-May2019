{
 "cells": [
  {
   "cell_type": "markdown",
   "metadata": {},
   "source": [
    "# PROBLEM SOLVING and PROGRAMMING\n",
    "### Day NO:- 11\n",
    "### Date - 14-05-2019"
   ]
  },
  {
   "cell_type": "markdown",
   "metadata": {},
   "source": [
    "## Day Objectives\n",
    "1. Objectives 1\n",
    "2. Objectives 2\n",
    "3. Objectives 3"
   ]
  },
  {
   "cell_type": "markdown",
   "metadata": {},
   "source": [
    "## Problem 1:-\n",
    "\n",
    "#### Problem Staments\n",
    "For a given integer N, find the total number of  Non - Prime Factors in the range (1, N) (both exclusive) that do not contain the digit 0\n",
    "\n",
    "#### Test Cases:-\n",
    "* nonPrimeFactorsCount( 100 ) -> 2\n",
    "* nonPrimeFactorsCount( 50 )  ->  1"
   ]
  },
  {
   "cell_type": "code",
   "execution_count": 51,
   "metadata": {},
   "outputs": [
    {
     "name": "stdout",
     "output_type": "stream",
     "text": [
      "non prime numbers:- [6, 12, 15, 334, 668, 835]\n"
     ]
    }
   ],
   "source": [
    "def num(n):\n",
    "    a=[]\n",
    "    for i in range (1,n):\n",
    "        if(n%i==0):\n",
    "            a.append(i)\n",
    "    b=[]\n",
    "    for i in range(1,len(a)):\n",
    "        \n",
    "        sum=0\n",
    "        for j in range(1,a[i]+1):\n",
    "            if(a[i]%j==0):\n",
    "                sum=sum+1\n",
    "        if(sum!=2):\n",
    "            if(a[i]%10!=0):\n",
    "                b.append(a[i])\n",
    "    c=[]\n",
    "    for j in range (1,len(b)):\n",
    "        if(b[j] in range(0,99) and b[j]!=0 ):\n",
    "            c.append(b[j])\n",
    "    for i in range(0,len(b)):\n",
    "        sum=1\n",
    "        if(b[i]>111):\n",
    "            k=b[i]\n",
    "            for j in range(1,len(str(b[i]))):\n",
    "                \n",
    "                l=k%10\n",
    "                if(l==0):\n",
    "                    break\n",
    "                else:\n",
    "                    sum=sum+1\n",
    "                k=k//10\n",
    "            if(sum==len(str(b[i]))):\n",
    "                c.append(b[i])\n",
    "    print(\"non prime numbers:-\",c)\n",
    "num(10020)"
   ]
  },
  {
   "cell_type": "markdown",
   "metadata": {},
   "source": [
    "## Problem 2:-\n",
    "\n",
    "#### Problem Staments\n",
    "Define a function to print the sequence of spiral pattern elements for a given N x N matrix\n",
    "\n",
    "#### Test Cases:-\n",
    "* spiralPattern([[1,2,3], [4,5,6], [7,8,9]]) -> 1 2 3 6 9 8 7 4 5"
   ]
  },
  {
   "cell_type": "code",
   "execution_count": 45,
   "metadata": {},
   "outputs": [
    {
     "name": "stdout",
     "output_type": "stream",
     "text": [
      "[1, 2, 3, 4, 8, 12, 16, 15, 14, 13, 9, 5, 6, 7, 11, 10]\n"
     ]
    }
   ],
   "source": [
    "def num(a):\n",
    "    n=len(a[0])#4\n",
    "    m=len(a)#4\n",
    "    c=[]\n",
    "    for i in range(0,n):\n",
    "        c.append(a[0][i])\n",
    "    n=n-1\n",
    "    for i in range(1,m):\n",
    "        c.append(a[i][n])\n",
    "    m=m-1\n",
    "    for i in range(n-1,-1,-1):\n",
    "        c.append(a[m][i])\n",
    "    n=n-1    \n",
    "    for i in range(m-1,0,-1):\n",
    "        c.append(a[i][0])\n",
    "    m=m-1\n",
    "    for i in range(0,n):\n",
    "        c.append(a[n-1][i+1])\n",
    "    for i in range(n,0,-1):\n",
    "        c.append(a[n][i])\n",
    "    print(c)\n",
    "a=[[1, 2, 3, 4], [5, 6, 7, 8], [9, 10, 11, 12],[13,14,15,16]]\n",
    "num(a)"
   ]
  },
  {
   "cell_type": "code",
   "execution_count": null,
   "metadata": {},
   "outputs": [],
   "source": []
  }
 ],
 "metadata": {
  "kernelspec": {
   "display_name": "Python 3",
   "language": "python",
   "name": "python3"
  },
  "language_info": {
   "codemirror_mode": {
    "name": "ipython",
    "version": 3
   },
   "file_extension": ".py",
   "mimetype": "text/x-python",
   "name": "python",
   "nbconvert_exporter": "python",
   "pygments_lexer": "ipython3",
   "version": "3.7.3"
  }
 },
 "nbformat": 4,
 "nbformat_minor": 2
}
