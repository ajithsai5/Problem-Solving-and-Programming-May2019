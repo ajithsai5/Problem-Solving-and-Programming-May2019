{
 "cells": [
  {
   "cell_type": "markdown",
   "metadata": {},
   "source": [
    "# PROBLEM SOLVING and PROGRAMMING\n",
    "### Day NO:-8\n",
    "### Date - 11/05/2019"
   ]
  },
  {
   "cell_type": "markdown",
   "metadata": {},
   "source": [
    "## Day Objectives\n",
    "1. Objectives 1\n",
    "2. Objectives 2\n",
    "3. Objectives 3"
   ]
  },
  {
   "cell_type": "markdown",
   "metadata": {},
   "source": [
    "## Problem 1:-\n",
    "\n",
    "#### Problem Staments.\n",
    "Define a function to identity the number of times a substring is repeating in a given string\n",
    "\n",
    "#### Test Cases:-\n",
    "\n",
    "* substringCount('str', 'substr') -> 1\n",
    "* substringCount('1234567891122334455', '3') -> 3\n",
    "* substringCount('abccddccc', 'cc') -> 3\n",
    "* substringCount('aaaaaaa', 'aaa' ) -> 5"
   ]
  },
  {
   "cell_type": "code",
   "execution_count": 53,
   "metadata": {},
   "outputs": [
    {
     "name": "stdout",
     "output_type": "stream",
     "text": [
      "1\n",
      "3\n",
      "3\n",
      "5\n"
     ]
    }
   ],
   "source": [
    "def stn(a,b):\n",
    "    c=0\n",
    "    if(len(a)<len(b)):\n",
    "        sub=a\n",
    "        mai=b\n",
    "    else:\n",
    "        sub=b\n",
    "        mai=a\n",
    "    for i in range(len(mai)):\n",
    "        if(sub==mai[i:i+len(sub)]):\n",
    "            c=c+1\n",
    "    return c \n",
    "print(stn('str', 'substr'))\n",
    "print(stn('1234567891122334455', '3'))\n",
    "print(stn('abccddccc', 'cc'))\n",
    "print(stn('aaaaaaa', 'aaa' ))"
   ]
  },
  {
   "cell_type": "markdown",
   "metadata": {},
   "source": [
    "## Problem 2:-\n",
    "\n",
    "#### Problem Staments.\n",
    "Define a function to merge the characters of two strings alternatively. The remaining characters\n",
    "of the longer string are printed in the same order at the end.\n",
    "#### Test Cases:-\n",
    "\n",
    "* mergeString('abcd', 'abcd') -> 'aabbccdd'\n",
    "* mergeString('abc', '123456') -> 'a1b2c3456'\n",
    "* mergeString('0', '123456') -> '0123456'"
   ]
  },
  {
   "cell_type": "code",
   "execution_count": 5,
   "metadata": {
    "scrolled": true
   },
   "outputs": [
    {
     "name": "stdout",
     "output_type": "stream",
     "text": [
      "aabbccddegrihf\n",
      "a1b2c3456\n",
      "0123456\n"
     ]
    }
   ],
   "source": [
    "def st(a,b):\n",
    "    if(len(a)>len(b)):\n",
    "        k=len(a)\n",
    "    else:\n",
    "        k=len(b)\n",
    "    c=\"\"\n",
    "    for i in range(0,k):\n",
    "        if(i+1>len(b)):\n",
    "            c=c+a[i]\n",
    "        elif(i+1>len(a)):\n",
    "            c=c+b[i]\n",
    "        else:    \n",
    "            c=c+a[i]\n",
    "            c=c+b[i] \n",
    "    print(c)\n",
    "st('abcdegrihf', 'abcd')\n",
    "st('abc', '123456')\n",
    "st('0', '123456')"
   ]
  },
  {
   "cell_type": "markdown",
   "metadata": {},
   "source": [
    "## Problem 3:-\n",
    "\n",
    "#### Problem Staments.\n",
    "Define a function to convert a binary number to the corresponding decimal number.\n",
    "\n",
    "#### Test Cases:-\n",
    "* binaryToDecimal(1100) -> 12\n",
    "* binaryToDecimal(1010) -> 10\n",
    "* binaryToDecimal(111000) -> 56"
   ]
  },
  {
   "cell_type": "code",
   "execution_count": 149,
   "metadata": {},
   "outputs": [
    {
     "name": "stdout",
     "output_type": "stream",
     "text": [
      "12\n",
      "10\n",
      "56\n"
     ]
    }
   ],
   "source": [
    "def num(a):\n",
    "    r=len(a)-1\n",
    "    d=0\n",
    "    for i in range(r):\n",
    "        d=d+((2**r)*int(a[i]))\n",
    "        r=r-1\n",
    "    print(d)\n",
    "num('1100')\n",
    "num('1010')\n",
    "num('111000')"
   ]
  },
  {
   "cell_type": "markdown",
   "metadata": {},
   "source": [
    "## Problem 4:-\n",
    "\n",
    "#### Problem Staments.\n",
    "Define a function to convert a decimal number to the corresponding binary number\n",
    "\n",
    "#### Test Cases:-\n",
    "* decimalToBinary(15) -> 1111\n",
    "* decimalToBinary(10) -> 1010"
   ]
  },
  {
   "cell_type": "code",
   "execution_count": 42,
   "metadata": {},
   "outputs": [
    {
     "name": "stdout",
     "output_type": "stream",
     "text": [
      "[1, 1, 1, 1]\n",
      "1\n"
     ]
    }
   ],
   "source": [
    "import math\n",
    "def num(n):\n",
    "    a=[]\n",
    "    for i in range(1,n):\n",
    "        if (n>1):\n",
    "            x=math.floor(n%2)\n",
    "            a.append(x)\n",
    "            n=n/2 \n",
    "            i=i+1\n",
    "        elif(n<1):\n",
    "            break\n",
    "    if(n==1):\n",
    "        return 1\n",
    "    return a[::-1]      \n",
    "print(num(15))\n",
    "print(num(1))"
   ]
  },
  {
   "cell_type": "code",
   "execution_count": 208,
   "metadata": {},
   "outputs": [
    {
     "name": "stdout",
     "output_type": "stream",
     "text": [
      "[1, 1, 0, 1]\n"
     ]
    }
   ],
   "source": [
    "def num(n,m):\n",
    "    if(n==0):\n",
    "        return True\n",
    "    else:\n",
    "        m.append(n%2)\n",
    "        num(n//2,m)\n",
    "    return m[::-1]   \n",
    "print(num(13,[])) "
   ]
  },
  {
   "cell_type": "markdown",
   "metadata": {},
   "source": [
    "## Problem 5:-\n",
    "\n",
    "#### Problem Staments.\n",
    "Define a function to check if a given year is a leap year. Returns a boolean value.\n",
    "\n",
    "#### Test Cases:-\n",
    "* 2000 -> True\n",
    "* 1900 -> False\n",
    "* 2012 -> True\n",
    "* 2020 -> True\n",
    "* 0200 -> False"
   ]
  },
  {
   "cell_type": "code",
   "execution_count": 161,
   "metadata": {},
   "outputs": [
    {
     "name": "stdout",
     "output_type": "stream",
     "text": [
      "True\n",
      "False\n",
      "True\n",
      "True\n",
      "False\n"
     ]
    }
   ],
   "source": [
    "def le(n):\n",
    "    if(n % 4 == 0 and n % 100!= 0 or n%400==0):\n",
    "        return True\n",
    "    else:\n",
    "        return False\n",
    "print(le(2000))\n",
    "print(le(1900))\n",
    "print(le(2012))\n",
    "print(le(2020))\n",
    "print(le(200))"
   ]
  },
  {
   "cell_type": "markdown",
   "metadata": {},
   "source": [
    "## Problem 6:-\n",
    "\n",
    "#### Problem Staments.\n",
    " Design a Python script to determine the difference in date for given two dates in YYYY:MM:DD format(0 <= YYYY <= 9999, 1 <= MM <= 12, 1 <= DD <= 31) following the leap year rules. Return the total number of days existing between the two dates.\n",
    " \n",
    " #### Test Cases:-\n",
    "* dateDifference('2019:05:10', '2019:05:01') -> 9\n",
    "* dateDifference('0003:03:03', '0003:06:06') -> 95"
   ]
  },
  {
   "cell_type": "code",
   "execution_count": 1,
   "metadata": {
    "scrolled": true
   },
   "outputs": [
    {
     "name": "stdout",
     "output_type": "stream",
     "text": [
      "9\n",
      "95\n"
     ]
    }
   ],
   "source": [
    "def date(a,b):\n",
    "    y1=a[0:4]\n",
    "    y2=b[0:4]\n",
    "    m1=a[5:7]\n",
    "    m2=b[5:7]\n",
    "    d1=a[8:10]\n",
    "    d2=b[8:10]\n",
    "    if(y1>y2):\n",
    "        y=int(y1)-int(y2)\n",
    "    else:\n",
    "        y=int(y2)-int(y1)\n",
    "    if(m1>m2):\n",
    "        m=int(m1)-int(m2)\n",
    "    else:\n",
    "        m=int(m2)-int(m1)\n",
    "    if(d1>d2):\n",
    "        d=int(d1)-int(d2)\n",
    "    else:\n",
    "        d=int(d2)-int(d1)\n",
    "    d=d+(y*365)\n",
    "    d=d+(m*30)\n",
    "    for i in range (1,m+1):\n",
    "        if(int(i) in [1,3,5,7,8,10,12]):\n",
    "            d=d+1\n",
    "    for n in range (1,y+1):\n",
    "        if(n % 4 == 0 and n % 100!= 0 or n%400==0):\n",
    "            d=d+1\n",
    "    return d\n",
    "print(date('2019:05:10', '2019:05:01'))\n",
    "print(date('0003:03:03','0003:06:06'))"
   ]
  },
  {
   "cell_type": "code",
   "execution_count": null,
   "metadata": {},
   "outputs": [],
   "source": []
  }
 ],
 "metadata": {
  "kernelspec": {
   "display_name": "Python 3",
   "language": "python",
   "name": "python3"
  },
  "language_info": {
   "codemirror_mode": {
    "name": "ipython",
    "version": 3
   },
   "file_extension": ".py",
   "mimetype": "text/x-python",
   "name": "python",
   "nbconvert_exporter": "python",
   "pygments_lexer": "ipython3",
   "version": "3.7.3"
  }
 },
 "nbformat": 4,
 "nbformat_minor": 2
}
