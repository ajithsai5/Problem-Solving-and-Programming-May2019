{
 "cells": [
  {
   "cell_type": "markdown",
   "metadata": {},
   "source": [
    "# PROBLEM SOLVING and PROGRAMMING\n",
    "### Day NO:- 12\n",
    "### Date -  15-05-2019"
   ]
  },
  {
   "cell_type": "markdown",
   "metadata": {},
   "source": [
    "## Day Objectives\n",
    "1. Objectives 1\n",
    "2. Objectives 2\n",
    "3. Objectives 3"
   ]
  },
  {
   "cell_type": "markdown",
   "metadata": {},
   "source": [
    "## Problem 1:-\n",
    "\n",
    "#### Problem Staments\n",
    "\n",
    "#### Test Cases:-\n"
   ]
  },
  {
   "cell_type": "code",
   "execution_count": 18,
   "metadata": {},
   "outputs": [
    {
     "name": "stdout",
     "output_type": "stream",
     "text": [
      "15\n"
     ]
    }
   ],
   "source": [
    "from Pythonscripts.test import sun\n",
    "print(sun(5))"
   ]
  },
  {
   "cell_type": "code",
   "execution_count": 3,
   "metadata": {},
   "outputs": [
    {
     "ename": "ModuleNotFoundError",
     "evalue": "No module named 'Documents'",
     "output_type": "error",
     "traceback": [
      "\u001b[1;31m---------------------------------------------------------------------------\u001b[0m",
      "\u001b[1;31mModuleNotFoundError\u001b[0m                       Traceback (most recent call last)",
      "\u001b[1;32m<ipython-input-3-8f1f5b7263fd>\u001b[0m in \u001b[0;36m<module>\u001b[1;34m\u001b[0m\n\u001b[1;32m----> 1\u001b[1;33m \u001b[1;32mfrom\u001b[0m \u001b[0mDocuments\u001b[0m\u001b[1;33m.\u001b[0m\u001b[0mPythonscripts\u001b[0m\u001b[1;33m.\u001b[0m\u001b[0mstring\u001b[0m\u001b[1;33m.\u001b[0m\u001b[0mstrin\u001b[0m \u001b[1;32mimport\u001b[0m \u001b[0mst\u001b[0m\u001b[1;33m\u001b[0m\u001b[1;33m\u001b[0m\u001b[0m\n\u001b[0m\u001b[0;32m      2\u001b[0m \u001b[0mst\u001b[0m\u001b[1;33m(\u001b[0m\u001b[1;34m'45'\u001b[0m\u001b[1;33m)\u001b[0m\u001b[1;33m\u001b[0m\u001b[1;33m\u001b[0m\u001b[0m\n",
      "\u001b[1;31mModuleNotFoundError\u001b[0m: No module named 'Documents'"
     ]
    }
   ],
   "source": [
    "from Documents.Pythonscripts.string.strin import st\n",
    "st('45')"
   ]
  },
  {
   "cell_type": "markdown",
   "metadata": {},
   "source": [
    "# Problem 2:-\n",
    "\n",
    "## Problem Staments\n",
    "##### Print Ture and False for given postal code"
   ]
  },
  {
   "cell_type": "code",
   "execution_count": 5,
   "metadata": {},
   "outputs": [
    {
     "name": "stdout",
     "output_type": "stream",
     "text": [
      "Ture\n"
     ]
    }
   ],
   "source": [
    "import re\n",
    "\n",
    "p1='^[1-9][0-9]{5}$'\n",
    "d='500085'\n",
    "if re.match(p1,d):\n",
    "    print(\"Ture\")\n",
    "else:\n",
    "    print(\"False\")"
   ]
  },
  {
   "cell_type": "markdown",
   "metadata": {},
   "source": [
    "# Problem 3:-\n",
    "\n",
    "## Problem Staments\n",
    "##### Print Ture and False for given phone number"
   ]
  },
  {
   "cell_type": "code",
   "execution_count": 6,
   "metadata": {},
   "outputs": [
    {
     "name": "stdout",
     "output_type": "stream",
     "text": [
      "Ture\n"
     ]
    }
   ],
   "source": [
    "import re\n",
    "\n",
    "ph='^[+][9][1][6-9][0-9]{9}$'\n",
    "nu='+918333984566'\n",
    "\n",
    "if re.match(ph,nu):\n",
    "    print(\"Ture\")\n",
    "else:\n",
    "    print(\"False\")"
   ]
  },
  {
   "cell_type": "markdown",
   "metadata": {},
   "source": [
    "# Problem 4:-\n",
    "\n",
    "## Problem Staments\n",
    "##### Print Ture and False for given email"
   ]
  },
  {
   "cell_type": "code",
   "execution_count": 7,
   "metadata": {},
   "outputs": [
    {
     "name": "stdout",
     "output_type": "stream",
     "text": [
      "Ture\n"
     ]
    }
   ],
   "source": [
    "import re\n",
    "\n",
    "a='^[a-z][a-z0-9_-]{4,13}[a-z0-9][@][0-9a-z]{3,9}[.][a-z]{2,3}$'\n",
    "b='ajithsai1234567@gmail.com'\n",
    "\n",
    "if re.match(a,b):\n",
    "    print(\"Ture\")\n",
    "else:\n",
    "    print(\"False\")"
   ]
  },
  {
   "cell_type": "markdown",
   "metadata": {},
   "source": [
    "# Problem 4:-\n",
    "\n",
    "## Problem Staments\n",
    "##### Print Ture and False for given password"
   ]
  },
  {
   "cell_type": "code",
   "execution_count": 9,
   "metadata": {},
   "outputs": [
    {
     "name": "stdout",
     "output_type": "stream",
     "text": [
      "False\n"
     ]
    }
   ],
   "source": [
    "import re\n",
    "\n",
    "a='^(?=.*[a-z])(?=.*[A-Z])(?=.*[0-9])(?=.*[!@#$%^&*]).{8,15}$'\n",
    "b='aji12A'\n",
    "\n",
    "if re.match(a,b):\n",
    "    print(\"Ture\")\n",
    "else:\n",
    "    print(\"False\")"
   ]
  },
  {
   "cell_type": "code",
   "execution_count": null,
   "metadata": {},
   "outputs": [],
   "source": []
  },
  {
   "cell_type": "code",
   "execution_count": null,
   "metadata": {},
   "outputs": [],
   "source": []
  }
 ],
 "metadata": {
  "kernelspec": {
   "display_name": "Python 3",
   "language": "python",
   "name": "python3"
  },
  "language_info": {
   "codemirror_mode": {
    "name": "ipython",
    "version": 3
   },
   "file_extension": ".py",
   "mimetype": "text/x-python",
   "name": "python",
   "nbconvert_exporter": "python",
   "pygments_lexer": "ipython3",
   "version": "3.7.3"
  }
 },
 "nbformat": 4,
 "nbformat_minor": 2
}
